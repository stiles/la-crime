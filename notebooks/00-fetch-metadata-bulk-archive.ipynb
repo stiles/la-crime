{
 "cells": [
  {
   "cell_type": "markdown",
   "id": "0fdd4e16-e062-4146-9c40-05a340ecc972",
   "metadata": {},
   "source": [
    "# LA Crime: Data sources and metadata"
   ]
  },
  {
   "cell_type": "markdown",
   "id": "2cd6a4cf-3892-4cc9-97de-84f87dc86d7d",
   "metadata": {},
   "source": [
    "#### Load Python tools and Jupyter config"
   ]
  },
  {
   "cell_type": "code",
   "execution_count": 79,
   "id": "c3b1c77c-b670-495b-aca3-e14b06448d51",
   "metadata": {},
   "outputs": [],
   "source": [
    "import json\n",
    "import requests\n",
    "import pandas as pd\n",
    "import jupyter_black\n",
    "import altair as alt\n",
    "import geopandas as gpd\n",
    "from sqlalchemy import create_engine\n",
    "from sqlalchemy import create_engine, Column, Integer, String, Float, Date\n",
    "from sqlalchemy.ext.declarative import declarative_base\n",
    "from sqlalchemy.orm import sessionmaker"
   ]
  },
  {
   "cell_type": "code",
   "execution_count": 5,
   "id": "daa1430b-ced1-4480-95b0-2aabaf9b0ae3",
   "metadata": {},
   "outputs": [],
   "source": [
    "jupyter_black.load()\n",
    "pd.options.display.max_columns = 100\n",
    "pd.options.display.max_rows = 1000\n",
    "pd.options.display.max_colwidth = None"
   ]
  },
  {
   "cell_type": "code",
   "execution_count": 67,
   "id": "e02c21df-18cf-4107-9c69-e938f468c87c",
   "metadata": {},
   "outputs": [],
   "source": [
    "today = pd.Timestamp(\"today\").strftime(\"%Y%m%d\")\n",
    "today_epoch = int(pd.Timestamp.today().timestamp())"
   ]
  },
  {
   "cell_type": "markdown",
   "id": "d9ec1603-0bda-4d46-a251-1c50f137d197",
   "metadata": {},
   "source": [
    "---"
   ]
  },
  {
   "cell_type": "markdown",
   "id": "3bbfd20b-7936-4f21-a091-697fca808ab1",
   "metadata": {},
   "source": [
    "## Metadata\n",
    "> The LAPD crime data comes from two services: An archive from [2010-2019](https://data.lacity.org/Public-Safety/Crime-Data-from-2010-to-2019/63jg-8b9z/about_data), and a regularly updated listing of incidents from [2020-present](https://data.lacity.org/Public-Safety/Crime-Data-from-2020-to-Present/2nrs-mtv8/about_data). Each are stored using the Socrata Open Data API (SODA), which allows for bulk download to initiate the project and database model and for regular programatic access to keep the archive updated. "
   ]
  },
  {
   "cell_type": "markdown",
   "id": "70c799af-d3be-4577-96fa-ba056f433607",
   "metadata": {},
   "source": [
    "#### Get metadata for each table"
   ]
  },
  {
   "cell_type": "code",
   "execution_count": 71,
   "id": "de6b3aec-15d9-46af-a5ea-dad1b7670fa6",
   "metadata": {},
   "outputs": [],
   "source": [
    "sources = [\n",
    "    {\n",
    "        \"year\": \"2010-2019\",\n",
    "        \"code\": \"63jg-8b9z\",\n",
    "        \"metadata_url\": \"https://data.lacity.org/api/views/63jg-8b9z.json\",\n",
    "        \"download_url\": f\"https://data.lacity.org/api/views/63jg-8b9z/rows.csv?fourfour=63jg-8b9z&cacheBust={today_epoch}&date={today}&accessType=DOWNLOAD\",\n",
    "    },\n",
    "    {\n",
    "        \"year\": \"2020-present\",\n",
    "        \"code\": \"2nrs-mtv8\",\n",
    "        \"metadata_url\": \"https://data.lacity.org/api/views/2nrs-mtv8.json\",\n",
    "        \"download_url\": f\"https://data.lacity.org/api/views/2nrs-mtv8/rows.csv?fourfour=2nrs-mtv8&cacheBust={today_epoch}&date={today}&accessType=DOWNLOAD\",\n",
    "    },\n",
    "]"
   ]
  },
  {
   "cell_type": "markdown",
   "id": "520da064-3c13-4b3a-8390-aa5d4d68fac2",
   "metadata": {},
   "source": [
    "#### Fetch the metadata from both sources to ensure it's identical"
   ]
  },
  {
   "cell_type": "code",
   "execution_count": 83,
   "id": "7d10adf8-cdc1-4ec8-8f83-3ae103830209",
   "metadata": {},
   "outputs": [],
   "source": [
    "dfs = []\n",
    "\n",
    "for source in sources:\n",
    "    response = requests.get(source[\"metadata_url\"])\n",
    "    metadata = pd.DataFrame(response.json()[\"columns\"])[\n",
    "        [\n",
    "            \"fieldName\",\n",
    "            \"name\",\n",
    "            \"dataTypeName\",\n",
    "            \"description\",\n",
    "        ]\n",
    "    ]\n",
    "    dfs.append(metadata)"
   ]
  },
  {
   "cell_type": "markdown",
   "id": "b46680cb-3f00-4d84-a05a-1872bfab2375",
   "metadata": {},
   "source": [
    "#### A dataframe listing the column names, types and descriptions"
   ]
  },
  {
   "cell_type": "code",
   "execution_count": 84,
   "id": "95dce2d4-4115-4f12-be36-289a05dfe6b3",
   "metadata": {},
   "outputs": [],
   "source": [
    "df = pd.concat(dfs).drop_duplicates()"
   ]
  },
  {
   "cell_type": "code",
   "execution_count": 85,
   "id": "6064026f-9dfc-47c9-832b-d8e446539ef7",
   "metadata": {},
   "outputs": [],
   "source": [
    "db_schema = df.to_dict(\"records\")"
   ]
  },
  {
   "cell_type": "markdown",
   "id": "ee134106-be94-44ed-b297-2fd45b788f06",
   "metadata": {},
   "source": [
    "---"
   ]
  },
  {
   "cell_type": "markdown",
   "id": "92c0f086-550a-40de-aef2-e8a78b978642",
   "metadata": {},
   "source": [
    "## Fetch"
   ]
  },
  {
   "cell_type": "markdown",
   "id": "a4e53259-8abf-4db1-8b85-dfe4b4b35ad9",
   "metadata": {},
   "source": [
    "#### Function to download the data in bulk to start"
   ]
  },
  {
   "cell_type": "code",
   "execution_count": 75,
   "id": "5115c2f1-716f-4cec-89c9-e58d00dbed40",
   "metadata": {},
   "outputs": [],
   "source": [
    "def download_crime_data(download_url, file_path):\n",
    "    response = requests.get(download_url)\n",
    "    with open(file_path, \"wb\") as file:\n",
    "        file.write(response.content)"
   ]
  },
  {
   "cell_type": "markdown",
   "id": "a70e2918-8cc3-46df-a2f7-7f31bf4a2926",
   "metadata": {},
   "source": [
    "#### 2010-2019 dataset"
   ]
  },
  {
   "cell_type": "code",
   "execution_count": 76,
   "id": "7ee075ac-08f1-424e-871e-fa076680227d",
   "metadata": {},
   "outputs": [],
   "source": [
    "download_crime_data(\n",
    "    \"https://data.lacity.org/api/views/63jg-8b9z/rows.csv?fourfour=63jg-8b9z&cacheBust=1712241918&date=20240404&accessType=DOWNLOAD\",\n",
    "    \"../data/raw/crime_data_2010_2019.csv\",\n",
    ")"
   ]
  },
  {
   "cell_type": "markdown",
   "id": "b91d0256-ad45-4717-8521-2395de5d1a4d",
   "metadata": {},
   "source": [
    "#### 2020-present dataset"
   ]
  },
  {
   "cell_type": "code",
   "execution_count": null,
   "id": "d4f2c75d-c1af-4b6f-ac7c-56f526263a47",
   "metadata": {},
   "outputs": [],
   "source": [
    "download_crime_data(\n",
    "    \"https://data.lacity.org/api/views/2nrs-mtv8/rows.csv?fourfour=2nrs-mtv8&cacheBust=1712241918&date=20240404&accessType=DOWNLOAD\",\n",
    "    \"../data/raw/crime_data_2020_present.csv\",\n",
    ")"
   ]
  },
  {
   "cell_type": "markdown",
   "id": "1b03709d-0b3d-4170-853c-c34bf995cf25",
   "metadata": {},
   "source": [
    "---"
   ]
  },
  {
   "cell_type": "markdown",
   "id": "ec0821f0-9938-4936-b673-f5a37372f534",
   "metadata": {},
   "source": [
    "#### Export metadata"
   ]
  },
  {
   "cell_type": "code",
   "execution_count": 86,
   "id": "5e0337ee-9602-4999-897c-dc0cf2a35a8c",
   "metadata": {},
   "outputs": [],
   "source": [
    "df.to_csv(\"../data/raw/crime_data_metadata.csv\", index=False)"
   ]
  }
 ],
 "metadata": {
  "kernelspec": {
   "display_name": "Python 3 (ipykernel)",
   "language": "python",
   "name": "python3"
  },
  "language_info": {
   "codemirror_mode": {
    "name": "ipython",
    "version": 3
   },
   "file_extension": ".py",
   "mimetype": "text/x-python",
   "name": "python",
   "nbconvert_exporter": "python",
   "pygments_lexer": "ipython3",
   "version": "3.10.9"
  }
 },
 "nbformat": 4,
 "nbformat_minor": 5
}
